{
 "cells": [
  {
   "cell_type": "markdown",
   "metadata": {},
   "source": [
    "# Lesson Overview \n",
    "\n",
    "1. Review of TF Data Validation (TFDV)\n",
    "\n",
    "2. Dataset Review, compute & visualize statistics\n",
    "\n",
    "3.  statistics\n",
    "\n",
    "4. Infer Schema\n",
    "\n",
    "5. Train vs Evaluation set data errors\n",
    "\n",
    "6. Annomolies & Skew\n",
    "\n",
    "7. Freeze Schema\n",
    "\n",
    "\n",
    "\n",
    "## Data Validation\n",
    "\n",
    "TensorFlow Data Validation (TFDV) is a library for exploring and validating machine learning data. It is designed to be highly scalable and to work well with TensorFlow and TensorFlow Extended (TFX).\n",
    "\n",
    "TF Data Validation:\n",
    "\n",
    "+ Compute summary statistics for train/test/validation data in a scalable way. While `scikit-learn` is limited to datasets which fit into RAM, this is not a concern for TFDV.\n",
    "+ Includes a viewer for data distributions and statistics (integration with [Facets](https://pair-code.github.io/facets/) \n",
    "+ Automatic schema inference \n",
    "+ Schema generation includes description of expectations about data (like required values, ranges, and vocabularies)\n",
    "+ A schema viewer to help you inspect the schema\n",
    "+ Anomaly detection to identify anomalies (missing features, out-of-range values, or wrong feature types)\n",
    "+ An anomalies viewer to see which features have anomalies\n",
    "+ TFDV can help validate new data for inference to ensure no bad features are processed\n",
    "+ TFDV can help validate that your model has been trained on part of the decision surface for new data during inference \n",
    "+ TFDV can help validate data after it's been transformed by TF Transform to ensure nothing unexpected has occurred to the data\n",
    "\n",
    "## Dataset\n",
    "\n",
    "The dataset will be using throughout this session will be the New York Yellow Cab dataset available via [BigQuery public datasets](https://console.cloud.google.com/marketplace/details/city-of-new-york/nyc-tlc-trips?filter=solution-type:dataset&filter=category:encyclopedic).\n",
    "\n",
    "Here is an example of how to extract data:\n",
    "```\n",
    "SELECT vendor_id,\n",
    "       EXTRACT(MONTH FROM pickup_datetime) AS pickup_month,\n",
    "       EXTRACT(HOUR FROM pickup_datetime) AS pickup_hour,\n",
    "       EXTRACT(DAYOFWEEK FROM pickup_datetime) AS pickup_day_of_week, \n",
    "       EXTRACT(MONTH FROM dropoff_datetime) AS dropoff_month,\n",
    "       EXTRACT(HOUR FROM dropoff_datetime) AS dropoff_hour,\n",
    "       EXTRACT(DAYOFWEEK FROM dropoff_datetime) AS dropoff_day_of_week,\n",
    "       passenger_count,\n",
    "       store_and_fwd_flag, \n",
    "       trip_distance,\n",
    "       fare_amount,\n",
    "       tip_amount,\n",
    "       payment_type,\n",
    "       trip_type\n",
    "FROM `bigquery-public-data.new_york_taxi_trips.tlc_green_trips_2018`  \n",
    "\n",
    "```\n",
    "\n",
    "The columns in the dataset are:"
   ]
  },
  {
   "cell_type": "markdown",
   "metadata": {},
   "source": [
    "![title](../assets/schema.png)"
   ]
  },
  {
   "cell_type": "markdown",
   "metadata": {},
   "source": [
    "## Third party packages already installed!\n",
    "\n",
    "Third party dependencies can be found in `requirements.txt` and already have been installed."
   ]
  },
  {
   "cell_type": "code",
   "execution_count": 1,
   "metadata": {},
   "outputs": [],
   "source": [
    "# check if you are using Python 2\n",
    "import sys\n",
    "assert sys.version_info.major is 2, 'Oops, not running Python 2'"
   ]
  },
  {
   "cell_type": "markdown",
   "metadata": {},
   "source": [
    "## Load necessary packages"
   ]
  },
  {
   "cell_type": "code",
   "execution_count": 2,
   "metadata": {},
   "outputs": [
    {
     "name": "stderr",
     "output_type": "stream",
     "text": [
      "/Users/arm/anaconda3/envs/py27_oreilly_ml_tfx_course/lib/python2.7/site-packages/scipy/spatial/__init__.py:96: ImportWarning: Not importing directory '/Users/arm/anaconda3/envs/py27_oreilly_ml_tfx_course/lib/python2.7/site-packages/scipy/spatial/qhull': missing __init__.py\n",
      "  from .qhull import *\n",
      "/Users/arm/anaconda3/envs/py27_oreilly_ml_tfx_course/lib/python2.7/site-packages/scipy/optimize/_minimize.py:37: ImportWarning: Not importing directory '/Users/arm/anaconda3/envs/py27_oreilly_ml_tfx_course/lib/python2.7/site-packages/scipy/optimize/lbfgsb': missing __init__.py\n",
      "  from .lbfgsb import _minimize_lbfgsb\n"
     ]
    },
    {
     "name": "stdout",
     "output_type": "stream",
     "text": [
      "TFDV version: 0.11.0\n",
      "TF version: 1.12.0\n"
     ]
    }
   ],
   "source": [
    "import warnings\n",
    "warnings.filterwarnings(\"ignore\")\n",
    "\n",
    "import apache_beam as beam  \n",
    "import os, sys\n",
    "import shutil\n",
    "import tensorflow as tf\n",
    "import tensorflow_data_validation as tfdv\n",
    "from google.protobuf import text_format \n",
    "from tensorflow.python.lib.io import file_io\n",
    "from tensorflow_transform.beam.tft_beam_io import transform_fn_io\n",
    "from tensorflow_transform.coders import example_proto_coder\n",
    "from tensorflow_transform.saved import saved_transform_io\n",
    "from tensorflow_transform.tf_metadata import dataset_schema\n",
    "from tensorflow_transform.tf_metadata import schema_utils\n",
    "\n",
    "print('TFDV version: {}'.format(tfdv.version.__version__))\n",
    "print('TF version: {}'.format(tf.VERSION))"
   ]
  },
  {
   "cell_type": "markdown",
   "metadata": {},
   "source": [
    "## Define Lesson-wide Parameters"
   ]
  },
  {
   "cell_type": "code",
   "execution_count": 3,
   "metadata": {},
   "outputs": [],
   "source": [
    "BASE_DIR = os.getcwd()\n",
    "DATA_DIR = os.path.join(BASE_DIR, '../data')\n",
    "OUTPUT_DIR = os.path.join(BASE_DIR)\n",
    "\n",
    "# base dir containing train and eval data\n",
    "TRAIN_DATA_DIR = os.path.join(DATA_DIR, 'train')\n",
    "EVAL_DATA_DIR = os.path.join(DATA_DIR, 'eval')\n",
    "SERVING_DATA_DIR = os.path.join(DATA_DIR, 'serving')\n",
    "\n",
    "TRAIN_DATA = os.path.join(TRAIN_DATA_DIR, 'train.csv')\n",
    "EVAL_DATA = os.path.join(EVAL_DATA_DIR, 'eval.csv')\n",
    "SERVING_DATA = os.path.join(SERVING_DATA_DIR, 'serving.csv')\n",
    "\n",
    "TF_OUTPUT_BASE_DIR = os.path.join(OUTPUT_DIR, 'tf')"
   ]
  },
  {
   "cell_type": "markdown",
   "metadata": {},
   "source": [
    "## Remove output from previous runs"
   ]
  },
  {
   "cell_type": "code",
   "execution_count": 4,
   "metadata": {},
   "outputs": [],
   "source": [
    "shutil.rmtree(TF_OUTPUT_BASE_DIR, ignore_errors=True)"
   ]
  },
  {
   "cell_type": "markdown",
   "metadata": {},
   "source": [
    "## Preview dataset"
   ]
  },
  {
   "cell_type": "code",
   "execution_count": 5,
   "metadata": {},
   "outputs": [
    {
     "name": "stdout",
     "output_type": "stream",
     "text": [
      "vendor_id,pickup_month,pickup_hour,pickup_day_of_week,dropoff_month,dropoff_hour,dropoff_day_of_week,passenger_count,trip_distance,fare_amount,tip_amount,payment_type,trip_type\r",
      "\r\n",
      "2,1,0,2,1,1,2,1,9.78,35,0,2,1\r",
      "\r\n",
      "2,1,0,2,1,0,2,2,1.34,26,0,1,1\r",
      "\r\n",
      "2,1,1,2,1,2,2,1,10.34,34.5,7.16,1,1\r",
      "\r\n",
      "2,1,1,2,1,2,2,1,9.79,30.5,0,2,1\r",
      "\r\n"
     ]
    }
   ],
   "source": [
    "! head -n 5 ../data/train/train.csv"
   ]
  },
  {
   "cell_type": "code",
   "execution_count": 6,
   "metadata": {},
   "outputs": [
    {
     "data": {
      "text/html": [
       "<div>\n",
       "<style scoped>\n",
       "    .dataframe tbody tr th:only-of-type {\n",
       "        vertical-align: middle;\n",
       "    }\n",
       "\n",
       "    .dataframe tbody tr th {\n",
       "        vertical-align: top;\n",
       "    }\n",
       "\n",
       "    .dataframe thead th {\n",
       "        text-align: right;\n",
       "    }\n",
       "</style>\n",
       "<table border=\"1\" class=\"dataframe\">\n",
       "  <thead>\n",
       "    <tr style=\"text-align: right;\">\n",
       "      <th></th>\n",
       "      <th>vendor_id</th>\n",
       "      <th>pickup_month</th>\n",
       "      <th>pickup_hour</th>\n",
       "      <th>pickup_day_of_week</th>\n",
       "      <th>dropoff_month</th>\n",
       "      <th>dropoff_hour</th>\n",
       "      <th>dropoff_day_of_week</th>\n",
       "      <th>passenger_count</th>\n",
       "      <th>trip_distance</th>\n",
       "      <th>fare_amount</th>\n",
       "      <th>tip_amount</th>\n",
       "      <th>payment_type</th>\n",
       "      <th>trip_type</th>\n",
       "    </tr>\n",
       "  </thead>\n",
       "  <tbody>\n",
       "    <tr>\n",
       "      <th>0</th>\n",
       "      <td>2</td>\n",
       "      <td>1</td>\n",
       "      <td>0</td>\n",
       "      <td>2</td>\n",
       "      <td>1</td>\n",
       "      <td>1</td>\n",
       "      <td>2</td>\n",
       "      <td>1</td>\n",
       "      <td>9.78</td>\n",
       "      <td>35.0</td>\n",
       "      <td>0.00</td>\n",
       "      <td>2</td>\n",
       "      <td>1</td>\n",
       "    </tr>\n",
       "    <tr>\n",
       "      <th>1</th>\n",
       "      <td>2</td>\n",
       "      <td>1</td>\n",
       "      <td>0</td>\n",
       "      <td>2</td>\n",
       "      <td>1</td>\n",
       "      <td>0</td>\n",
       "      <td>2</td>\n",
       "      <td>2</td>\n",
       "      <td>1.34</td>\n",
       "      <td>26.0</td>\n",
       "      <td>0.00</td>\n",
       "      <td>1</td>\n",
       "      <td>1</td>\n",
       "    </tr>\n",
       "    <tr>\n",
       "      <th>2</th>\n",
       "      <td>2</td>\n",
       "      <td>1</td>\n",
       "      <td>1</td>\n",
       "      <td>2</td>\n",
       "      <td>1</td>\n",
       "      <td>2</td>\n",
       "      <td>2</td>\n",
       "      <td>1</td>\n",
       "      <td>10.34</td>\n",
       "      <td>34.5</td>\n",
       "      <td>7.16</td>\n",
       "      <td>1</td>\n",
       "      <td>1</td>\n",
       "    </tr>\n",
       "    <tr>\n",
       "      <th>3</th>\n",
       "      <td>2</td>\n",
       "      <td>1</td>\n",
       "      <td>1</td>\n",
       "      <td>2</td>\n",
       "      <td>1</td>\n",
       "      <td>2</td>\n",
       "      <td>2</td>\n",
       "      <td>1</td>\n",
       "      <td>9.79</td>\n",
       "      <td>30.5</td>\n",
       "      <td>0.00</td>\n",
       "      <td>2</td>\n",
       "      <td>1</td>\n",
       "    </tr>\n",
       "    <tr>\n",
       "      <th>4</th>\n",
       "      <td>2</td>\n",
       "      <td>1</td>\n",
       "      <td>2</td>\n",
       "      <td>2</td>\n",
       "      <td>1</td>\n",
       "      <td>3</td>\n",
       "      <td>2</td>\n",
       "      <td>1</td>\n",
       "      <td>10.99</td>\n",
       "      <td>35.0</td>\n",
       "      <td>9.08</td>\n",
       "      <td>1</td>\n",
       "      <td>1</td>\n",
       "    </tr>\n",
       "  </tbody>\n",
       "</table>\n",
       "</div>"
      ],
      "text/plain": [
       "   vendor_id  pickup_month  pickup_hour  pickup_day_of_week  dropoff_month  \\\n",
       "0          2             1            0                   2              1   \n",
       "1          2             1            0                   2              1   \n",
       "2          2             1            1                   2              1   \n",
       "3          2             1            1                   2              1   \n",
       "4          2             1            2                   2              1   \n",
       "\n",
       "   dropoff_hour  dropoff_day_of_week  passenger_count  trip_distance  \\\n",
       "0             1                    2                1           9.78   \n",
       "1             0                    2                2           1.34   \n",
       "2             2                    2                1          10.34   \n",
       "3             2                    2                1           9.79   \n",
       "4             3                    2                1          10.99   \n",
       "\n",
       "   fare_amount  tip_amount  payment_type  trip_type  \n",
       "0         35.0        0.00             2          1  \n",
       "1         26.0        0.00             1          1  \n",
       "2         34.5        7.16             1          1  \n",
       "3         30.5        0.00             2          1  \n",
       "4         35.0        9.08             1          1  "
      ]
     },
     "execution_count": 6,
     "metadata": {},
     "output_type": "execute_result"
    }
   ],
   "source": [
    "import pandas as pd \n",
    "data_train = pd.read_csv(os.path.join(TRAIN_DATA_DIR, 'train.csv'))\n",
    "data_train.head(5)                                                  "
   ]
  },
  {
   "cell_type": "code",
   "execution_count": 7,
   "metadata": {},
   "outputs": [
    {
     "data": {
      "text/html": [
       "<div>\n",
       "<style scoped>\n",
       "    .dataframe tbody tr th:only-of-type {\n",
       "        vertical-align: middle;\n",
       "    }\n",
       "\n",
       "    .dataframe tbody tr th {\n",
       "        vertical-align: top;\n",
       "    }\n",
       "\n",
       "    .dataframe thead th {\n",
       "        text-align: right;\n",
       "    }\n",
       "</style>\n",
       "<table border=\"1\" class=\"dataframe\">\n",
       "  <thead>\n",
       "    <tr style=\"text-align: right;\">\n",
       "      <th></th>\n",
       "      <th>vendor_id</th>\n",
       "      <th>pickup_month</th>\n",
       "      <th>pickup_hour</th>\n",
       "      <th>pickup_day_of_week</th>\n",
       "      <th>dropoff_month</th>\n",
       "      <th>dropoff_hour</th>\n",
       "      <th>dropoff_day_of_week</th>\n",
       "      <th>passenger_count</th>\n",
       "      <th>trip_distance</th>\n",
       "      <th>fare_amount</th>\n",
       "      <th>tip_amount</th>\n",
       "      <th>payment_type</th>\n",
       "      <th>trip_type</th>\n",
       "    </tr>\n",
       "  </thead>\n",
       "  <tbody>\n",
       "    <tr>\n",
       "      <th>count</th>\n",
       "      <td>7999.000000</td>\n",
       "      <td>7999.000000</td>\n",
       "      <td>7999.000000</td>\n",
       "      <td>7999.000000</td>\n",
       "      <td>7999.000000</td>\n",
       "      <td>7999.000000</td>\n",
       "      <td>7999.000000</td>\n",
       "      <td>7999.000000</td>\n",
       "      <td>7999.000000</td>\n",
       "      <td>7999.000000</td>\n",
       "      <td>7999.000000</td>\n",
       "      <td>7999.000000</td>\n",
       "      <td>7999.000000</td>\n",
       "    </tr>\n",
       "    <tr>\n",
       "      <th>mean</th>\n",
       "      <td>1.846856</td>\n",
       "      <td>1.715214</td>\n",
       "      <td>12.830479</td>\n",
       "      <td>4.178522</td>\n",
       "      <td>1.715464</td>\n",
       "      <td>13.044131</td>\n",
       "      <td>4.166521</td>\n",
       "      <td>1.373922</td>\n",
       "      <td>9.350869</td>\n",
       "      <td>33.173018</td>\n",
       "      <td>2.395086</td>\n",
       "      <td>1.356045</td>\n",
       "      <td>1.054882</td>\n",
       "    </tr>\n",
       "    <tr>\n",
       "      <th>std</th>\n",
       "      <td>0.360149</td>\n",
       "      <td>0.715741</td>\n",
       "      <td>5.777055</td>\n",
       "      <td>1.949893</td>\n",
       "      <td>0.716015</td>\n",
       "      <td>5.900859</td>\n",
       "      <td>1.955372</td>\n",
       "      <td>1.043119</td>\n",
       "      <td>4.955842</td>\n",
       "      <td>27.704877</td>\n",
       "      <td>3.815409</td>\n",
       "      <td>0.581879</td>\n",
       "      <td>0.227764</td>\n",
       "    </tr>\n",
       "    <tr>\n",
       "      <th>min</th>\n",
       "      <td>1.000000</td>\n",
       "      <td>1.000000</td>\n",
       "      <td>0.000000</td>\n",
       "      <td>1.000000</td>\n",
       "      <td>1.000000</td>\n",
       "      <td>0.000000</td>\n",
       "      <td>1.000000</td>\n",
       "      <td>0.000000</td>\n",
       "      <td>0.000000</td>\n",
       "      <td>-100.000000</td>\n",
       "      <td>-0.800000</td>\n",
       "      <td>1.000000</td>\n",
       "      <td>1.000000</td>\n",
       "    </tr>\n",
       "    <tr>\n",
       "      <th>25%</th>\n",
       "      <td>2.000000</td>\n",
       "      <td>1.000000</td>\n",
       "      <td>9.000000</td>\n",
       "      <td>2.000000</td>\n",
       "      <td>1.000000</td>\n",
       "      <td>9.000000</td>\n",
       "      <td>2.000000</td>\n",
       "      <td>1.000000</td>\n",
       "      <td>6.910000</td>\n",
       "      <td>26.500000</td>\n",
       "      <td>0.000000</td>\n",
       "      <td>1.000000</td>\n",
       "      <td>1.000000</td>\n",
       "    </tr>\n",
       "    <tr>\n",
       "      <th>50%</th>\n",
       "      <td>2.000000</td>\n",
       "      <td>2.000000</td>\n",
       "      <td>13.000000</td>\n",
       "      <td>4.000000</td>\n",
       "      <td>2.000000</td>\n",
       "      <td>13.000000</td>\n",
       "      <td>4.000000</td>\n",
       "      <td>1.000000</td>\n",
       "      <td>8.650000</td>\n",
       "      <td>30.500000</td>\n",
       "      <td>0.000000</td>\n",
       "      <td>1.000000</td>\n",
       "      <td>1.000000</td>\n",
       "    </tr>\n",
       "    <tr>\n",
       "      <th>75%</th>\n",
       "      <td>2.000000</td>\n",
       "      <td>2.000000</td>\n",
       "      <td>17.000000</td>\n",
       "      <td>6.000000</td>\n",
       "      <td>2.000000</td>\n",
       "      <td>18.000000</td>\n",
       "      <td>6.000000</td>\n",
       "      <td>1.000000</td>\n",
       "      <td>11.250000</td>\n",
       "      <td>38.000000</td>\n",
       "      <td>5.150000</td>\n",
       "      <td>2.000000</td>\n",
       "      <td>1.000000</td>\n",
       "    </tr>\n",
       "    <tr>\n",
       "      <th>max</th>\n",
       "      <td>2.000000</td>\n",
       "      <td>3.000000</td>\n",
       "      <td>23.000000</td>\n",
       "      <td>7.000000</td>\n",
       "      <td>3.000000</td>\n",
       "      <td>23.000000</td>\n",
       "      <td>7.000000</td>\n",
       "      <td>9.000000</td>\n",
       "      <td>101.870000</td>\n",
       "      <td>2126.000000</td>\n",
       "      <td>63.000000</td>\n",
       "      <td>5.000000</td>\n",
       "      <td>2.000000</td>\n",
       "    </tr>\n",
       "  </tbody>\n",
       "</table>\n",
       "</div>"
      ],
      "text/plain": [
       "         vendor_id  pickup_month  pickup_hour  pickup_day_of_week  \\\n",
       "count  7999.000000   7999.000000  7999.000000         7999.000000   \n",
       "mean      1.846856      1.715214    12.830479            4.178522   \n",
       "std       0.360149      0.715741     5.777055            1.949893   \n",
       "min       1.000000      1.000000     0.000000            1.000000   \n",
       "25%       2.000000      1.000000     9.000000            2.000000   \n",
       "50%       2.000000      2.000000    13.000000            4.000000   \n",
       "75%       2.000000      2.000000    17.000000            6.000000   \n",
       "max       2.000000      3.000000    23.000000            7.000000   \n",
       "\n",
       "       dropoff_month  dropoff_hour  dropoff_day_of_week  passenger_count  \\\n",
       "count    7999.000000   7999.000000          7999.000000      7999.000000   \n",
       "mean        1.715464     13.044131             4.166521         1.373922   \n",
       "std         0.716015      5.900859             1.955372         1.043119   \n",
       "min         1.000000      0.000000             1.000000         0.000000   \n",
       "25%         1.000000      9.000000             2.000000         1.000000   \n",
       "50%         2.000000     13.000000             4.000000         1.000000   \n",
       "75%         2.000000     18.000000             6.000000         1.000000   \n",
       "max         3.000000     23.000000             7.000000         9.000000   \n",
       "\n",
       "       trip_distance  fare_amount   tip_amount  payment_type    trip_type  \n",
       "count    7999.000000  7999.000000  7999.000000   7999.000000  7999.000000  \n",
       "mean        9.350869    33.173018     2.395086      1.356045     1.054882  \n",
       "std         4.955842    27.704877     3.815409      0.581879     0.227764  \n",
       "min         0.000000  -100.000000    -0.800000      1.000000     1.000000  \n",
       "25%         6.910000    26.500000     0.000000      1.000000     1.000000  \n",
       "50%         8.650000    30.500000     0.000000      1.000000     1.000000  \n",
       "75%        11.250000    38.000000     5.150000      2.000000     1.000000  \n",
       "max       101.870000  2126.000000    63.000000      5.000000     2.000000  "
      ]
     },
     "execution_count": 7,
     "metadata": {},
     "output_type": "execute_result"
    }
   ],
   "source": [
    "data_train.describe()"
   ]
  },
  {
   "cell_type": "markdown",
   "metadata": {},
   "source": [
    "## Compute statistics\n",
    "\n",
    "TFDV can help you compute descriptive statistics which provides an overview of the data in terms of the features that are present and the shapes of their distributions.\n",
    "\n",
    "We'll be using `tfdv.generate_statistics_from_csv` to compute statistics for our training data."
   ]
  },
  {
   "cell_type": "code",
   "execution_count": 8,
   "metadata": {},
   "outputs": [
    {
     "name": "stderr",
     "output_type": "stream",
     "text": [
      "/Users/arm/anaconda3/envs/py27_oreilly_ml_tfx_course/lib/python2.7/site-packages/py/_code/_assertionold.py:3: DeprecationWarning: The compiler package is deprecated and removed in Python 3.x.\n",
      "  from compiler import parse, ast, pycodegen\n",
      "WARNING:root:Couldn't find python-snappy so the implementation of _TFRecordUtil._masked_crc32c is not as fast as it could be.\n"
     ]
    }
   ],
   "source": [
    "train_stats = tfdv.generate_statistics_from_csv(data_location = TRAIN_DATA)"
   ]
  },
  {
   "cell_type": "markdown",
   "metadata": {},
   "source": [
    "TFDV is able to scale to datasets which don't fit in RAM since it uses [Apache Beam's](https://beam.apache.org/releases/pydoc/2.9.0/) data-parallel processing framework to scale the computation of statistics. The API also exposes a Beam PTransform for statistics generation."
   ]
  },
  {
   "cell_type": "markdown",
   "metadata": {},
   "source": [
    "## Visualize statistics\n",
    "\n",
    "`tfdv.visualize_statistics` uses [Facets](https://pair-code.github.io/facets/) to create a visualization of our training data.\n",
    "\n",
    "• If you have numeric features and catagorical features, they will be visualized separately. Each chart displays the distributions for each feature respectively.\n",
    "\n",
    "• Features with missing or zero values display a percentage in red to indicate that there may be issues with examples in those features. The percentage is the percentage of examples that have missing or zero values for that feature. For example, `tip_amount` has a value of zero for 63% of the rows.\n",
    "\n",
    "• Try clicking \"expand\" above the charts to change the display\n",
    "\n",
    "• Try hovering over bars in the charts to display bucket ranges and counts\n",
    "\n",
    "• Try switching between the log and linear scales\n",
    "\n",
    "• Try selecting \"quantiles\" from the \"Chart to show\" menu, and hover over the markers to show the quantile percentages"
   ]
  },
  {
   "cell_type": "code",
   "execution_count": 9,
   "metadata": {},
   "outputs": [
    {
     "data": {
      "text/html": [
       "<iframe id='facets-iframe' width=\"100%\" height=\"500px\"></iframe>\n",
       "        <script>\n",
       "        facets_iframe = document.getElementById('facets-iframe');\n",
       "        facets_html = '<link rel=\"import\" href=\"https://raw.githubusercontent.com/PAIR-code/facets/master/facets-dist/facets-jupyter.html\"><facets-overview proto-input=\"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\"></facets-overview>';\n",
       "        facets_iframe.contentWindow.document.write(facets_html);\n",
       "         facets_iframe.id = \"\";\n",
       "         setTimeout(() => {\n",
       "           facets_iframe.setAttribute('height', facets_iframe.contentWindow.document.body.offsetHeight + 'px')\n",
       "         }, 1500)\n",
       "         </script>"
      ],
      "text/plain": [
       "<IPython.core.display.HTML object>"
      ]
     },
     "metadata": {},
     "output_type": "display_data"
    }
   ],
   "source": [
    "tfdv.visualize_statistics(train_stats)"
   ]
  },
  {
   "cell_type": "markdown",
   "metadata": {},
   "source": [
    "## Infer Schema\n",
    "\n",
    "For machine learning projects with structured data, we must understand the semantic meaning of each column, it's provenance, and the type/range of values. We can use `tfdv.infer_schema` to create a schema for our data. Manually inferring a schema can be a lengthy & error prone task, especially for datasets with large number of features.\n",
    "\n",
    "It's really important to ensure the schema has been correctly generated as this will be used by the machine learning pipeline both during model training & inference. The schema also serves as documentation for the data, which can be useful for other data scientists, business analysts and/or developers on a project. Let's use `tfdv.display_schema` to display the inferred schema so that we can review it."
   ]
  },
  {
   "cell_type": "code",
   "execution_count": 10,
   "metadata": {},
   "outputs": [
    {
     "data": {
      "text/html": [
       "<div>\n",
       "<style scoped>\n",
       "    .dataframe tbody tr th:only-of-type {\n",
       "        vertical-align: middle;\n",
       "    }\n",
       "\n",
       "    .dataframe tbody tr th {\n",
       "        vertical-align: top;\n",
       "    }\n",
       "\n",
       "    .dataframe thead th {\n",
       "        text-align: right;\n",
       "    }\n",
       "</style>\n",
       "<table border=\"1\" class=\"dataframe\">\n",
       "  <thead>\n",
       "    <tr style=\"text-align: right;\">\n",
       "      <th></th>\n",
       "      <th>Type</th>\n",
       "      <th>Presence</th>\n",
       "      <th>Valency</th>\n",
       "      <th>Domain</th>\n",
       "    </tr>\n",
       "    <tr>\n",
       "      <th>Feature name</th>\n",
       "      <th></th>\n",
       "      <th></th>\n",
       "      <th></th>\n",
       "      <th></th>\n",
       "    </tr>\n",
       "  </thead>\n",
       "  <tbody>\n",
       "    <tr>\n",
       "      <th>'trip_distance'</th>\n",
       "      <td>FLOAT</td>\n",
       "      <td>required</td>\n",
       "      <td>single</td>\n",
       "      <td>-</td>\n",
       "    </tr>\n",
       "    <tr>\n",
       "      <th>'pickup_day_of_week'</th>\n",
       "      <td>INT</td>\n",
       "      <td>required</td>\n",
       "      <td>single</td>\n",
       "      <td>-</td>\n",
       "    </tr>\n",
       "    <tr>\n",
       "      <th>'vendor_id'</th>\n",
       "      <td>INT</td>\n",
       "      <td>required</td>\n",
       "      <td>single</td>\n",
       "      <td>-</td>\n",
       "    </tr>\n",
       "    <tr>\n",
       "      <th>'tip_amount'</th>\n",
       "      <td>FLOAT</td>\n",
       "      <td>required</td>\n",
       "      <td>single</td>\n",
       "      <td>-</td>\n",
       "    </tr>\n",
       "    <tr>\n",
       "      <th>'dropoff_hour'</th>\n",
       "      <td>INT</td>\n",
       "      <td>required</td>\n",
       "      <td>single</td>\n",
       "      <td>-</td>\n",
       "    </tr>\n",
       "    <tr>\n",
       "      <th>'dropoff_month'</th>\n",
       "      <td>INT</td>\n",
       "      <td>required</td>\n",
       "      <td>single</td>\n",
       "      <td>-</td>\n",
       "    </tr>\n",
       "    <tr>\n",
       "      <th>'pickup_hour'</th>\n",
       "      <td>INT</td>\n",
       "      <td>required</td>\n",
       "      <td>single</td>\n",
       "      <td>-</td>\n",
       "    </tr>\n",
       "    <tr>\n",
       "      <th>'pickup_month'</th>\n",
       "      <td>INT</td>\n",
       "      <td>required</td>\n",
       "      <td>single</td>\n",
       "      <td>-</td>\n",
       "    </tr>\n",
       "    <tr>\n",
       "      <th>'fare_amount'</th>\n",
       "      <td>FLOAT</td>\n",
       "      <td>required</td>\n",
       "      <td>single</td>\n",
       "      <td>-</td>\n",
       "    </tr>\n",
       "    <tr>\n",
       "      <th>'passenger_count'</th>\n",
       "      <td>INT</td>\n",
       "      <td>required</td>\n",
       "      <td>single</td>\n",
       "      <td>-</td>\n",
       "    </tr>\n",
       "    <tr>\n",
       "      <th>'dropoff_day_of_week'</th>\n",
       "      <td>INT</td>\n",
       "      <td>required</td>\n",
       "      <td>single</td>\n",
       "      <td>-</td>\n",
       "    </tr>\n",
       "    <tr>\n",
       "      <th>'payment_type'</th>\n",
       "      <td>INT</td>\n",
       "      <td>required</td>\n",
       "      <td>single</td>\n",
       "      <td>-</td>\n",
       "    </tr>\n",
       "    <tr>\n",
       "      <th>'trip_type'</th>\n",
       "      <td>INT</td>\n",
       "      <td>required</td>\n",
       "      <td>single</td>\n",
       "      <td>-</td>\n",
       "    </tr>\n",
       "  </tbody>\n",
       "</table>\n",
       "</div>"
      ],
      "text/plain": [
       "                        Type  Presence Valency Domain\n",
       "Feature name                                         \n",
       "'trip_distance'        FLOAT  required  single      -\n",
       "'pickup_day_of_week'     INT  required  single      -\n",
       "'vendor_id'              INT  required  single      -\n",
       "'tip_amount'           FLOAT  required  single      -\n",
       "'dropoff_hour'           INT  required  single      -\n",
       "'dropoff_month'          INT  required  single      -\n",
       "'pickup_hour'            INT  required  single      -\n",
       "'pickup_month'           INT  required  single      -\n",
       "'fare_amount'          FLOAT  required  single      -\n",
       "'passenger_count'        INT  required  single      -\n",
       "'dropoff_day_of_week'    INT  required  single      -\n",
       "'payment_type'           INT  required  single      -\n",
       "'trip_type'              INT  required  single      -"
      ]
     },
     "metadata": {},
     "output_type": "display_data"
    }
   ],
   "source": [
    "# infer schema from training data\n",
    "schema = tfdv.infer_schema(statistics=train_stats, infer_feature_shape=False)\n",
    "tfdv.display_schema(schema=schema)"
   ]
  },
  {
   "cell_type": "markdown",
   "metadata": {},
   "source": [
    "## Train vs Evaluation Data Validation\n",
    "\n",
    "For supervized machine learning with structured data, it's critical that we...\n",
    "\n",
    "+ Ensure the distribution (range of values) of the training data matches that of the evaluation set. Otherwise, it's likely that what the model learns using the training data wouldn't generalize to new data during inference.\n",
    "\n",
    "+ Ensure train/test/validation & new data (during inference) matches the same schema\n",
    "\n",
    "+ Ensure that we reduce the training-serving skew. This is the difference between performance during training and performance during serving. This skew can be caused by:\n",
    "\n",
    "  + A discrepancy between how you handle data in the training and serving pipelines.\n",
    "\n",
    "  + A change in the data between when you train and when you serve.\n",
    "\n",
    "  + A feedback loop between your model and your algorithm.\n",
    "  \n",
    "TFDV can help us with a majority of these scenarios."
   ]
  },
  {
   "cell_type": "code",
   "execution_count": 11,
   "metadata": {},
   "outputs": [],
   "source": [
    "# compute stats over evaluation dataset\n",
    "eval_stats = tfdv.generate_statistics_from_csv(data_location = EVAL_DATA)"
   ]
  },
  {
   "cell_type": "code",
   "execution_count": 12,
   "metadata": {},
   "outputs": [
    {
     "data": {
      "text/html": [
       "<iframe id='facets-iframe' width=\"100%\" height=\"500px\"></iframe>\n",
       "        <script>\n",
       "        facets_iframe = document.getElementById('facets-iframe');\n",
       "        facets_html = '<link rel=\"import\" href=\"https://raw.githubusercontent.com/PAIR-code/facets/master/facets-dist/facets-jupyter.html\"><facets-overview proto-input=\"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\"></facets-overview>';\n",
       "        facets_iframe.contentWindow.document.write(facets_html);\n",
       "         facets_iframe.id = \"\";\n",
       "         setTimeout(() => {\n",
       "           facets_iframe.setAttribute('height', facets_iframe.contentWindow.document.body.offsetHeight + 'px')\n",
       "         }, 1500)\n",
       "         </script>"
      ],
      "text/plain": [
       "<IPython.core.display.HTML object>"
      ]
     },
     "metadata": {},
     "output_type": "display_data"
    }
   ],
   "source": [
    "# compare stats of train vs eval data\n",
    "tfdv.visualize_statistics(lhs_statistics=eval_stats, rhs_statistics=train_stats,\n",
    "                          lhs_name='EVAL_DATA.SET', rhs_name='TRAIN_DATASET')"
   ]
  },
  {
   "cell_type": "markdown",
   "metadata": {},
   "source": [
    "Few things to keep in mind...\n",
    "\n",
    "• Notice that each feature now includes statistics for both the training and evaluation datasets.\n",
    "\n",
    "• Notice that the charts now have both the training and evaluation datasets overlaid, making it easy to compare them.\n",
    "\n",
    "• Notice that the charts now include a percentages view, which can be combined with log or the default linear scales.\n",
    "\n",
    "• `trip_distance` is different for training vs evaluation sets. Is this an issue? How will this cause problem(s)?"
   ]
  },
  {
   "cell_type": "markdown",
   "metadata": {},
   "source": [
    "## Check for Train vs Evaluation set Annomolies\n",
    "\n",
    "There is one important question to ask before we continue. Does our evaluation dataset match the schema from our training dataset? You will need to be careful with categorical features as there may be values present in the training data which aren't in evaluation set, or vice versa.\n",
    "\n",
    "Let's think about the following scenarios...\n",
    "\n",
    "1) What would happen if you tried to evaluate using data with categorical feature values that were not in our training dataset? \n",
    "\n",
    "2) What about numeric features that are outside the ranges in our training dataset?"
   ]
  },
  {
   "cell_type": "code",
   "execution_count": 13,
   "metadata": {},
   "outputs": [
    {
     "data": {
      "text/html": [
       "<h4 style=\"color:green;\">No anomalies found.</h4>"
      ],
      "text/plain": [
       "<IPython.core.display.HTML object>"
      ]
     },
     "metadata": {},
     "output_type": "display_data"
    }
   ],
   "source": [
    "# check evaluation data for annomolies by validating against the previously inferred schema during training\n",
    "anomalies = tfdv.validate_statistics(statistics=eval_stats, schema=schema)\n",
    "tfdv.display_anomalies(anomalies)"
   ]
  },
  {
   "cell_type": "markdown",
   "metadata": {},
   "source": [
    "## Fix Data Annomolies in the Schema\n",
    "\n",
    "There are various reasons why data annomolies exist. Often, there is an issue in the data collection or pipeline which feeds data downstream, so you'll want to investigate and fix any underlying data issues in upstream processes before you continue.\n",
    "\n",
    "Another common annomoly which can occur is if you have a categorical value in your training set which isn't in the evaluation set, you'll need to use:\n",
    "\n",
    "`tfdv.get_domain(schema, feature_name).value.append('new_unique_value')`.\n",
    "\n",
    "While we can't fix all the annomolies, we should fix issues we are not comfortable accepting."
   ]
  },
  {
   "cell_type": "code",
   "execution_count": 14,
   "metadata": {},
   "outputs": [
    {
     "data": {
      "text/html": [
       "<h4 style=\"color:green;\">No anomalies found.</h4>"
      ],
      "text/plain": [
       "<IPython.core.display.HTML object>"
      ]
     },
     "metadata": {},
     "output_type": "display_data"
    }
   ],
   "source": [
    "# update the schema based on the observed anomalies.\n",
    "vendor_id = tfdv.get_feature(schema, 'vendor_id')\n",
    "# we want feature vendor_id to be populated in at least 50% of the examples\n",
    "vendor_id.presence.min_fraction = 0.5\n",
    "\n",
    "# validate eval stats after updating the schema \n",
    "updated_anomalies = tfdv.validate_statistics(eval_stats, schema)\n",
    "tfdv.display_anomalies(updated_anomalies)"
   ]
  },
  {
   "cell_type": "markdown",
   "metadata": {},
   "source": [
    "We are confident that the training and evaluation data are now consistent!"
   ]
  },
  {
   "cell_type": "markdown",
   "metadata": {},
   "source": [
    "## Schema Environments\n",
    "\n",
    "For this training session, we will need to create a `serving` dataset. Typically, all datasets in a pipeline should use the same schema, however; there are some notable exceptions. For instance, in supervised learning we need to include labels in our dataset, but when we serve the model for inference the labels will not be included. For this reaosn, we need to make a slight schema variation.\n",
    "\n",
    "We can use `Environments` to help us use slightly differing schema definitions for each use case (train, model validation, inference). Specifically, we can use `in_environment` and `not_in_environment` to indicate which features in schema should be associated with a set of environments respectively.\n",
    "\n",
    "For example, in our dataset the `fare_amount` feature is included as the label for training, but it's missing in the serving data. Without environment specified, it will show up as an anomaly."
   ]
  },
  {
   "cell_type": "code",
   "execution_count": 15,
   "metadata": {},
   "outputs": [
    {
     "data": {
      "text/html": [
       "<div>\n",
       "<style scoped>\n",
       "    .dataframe tbody tr th:only-of-type {\n",
       "        vertical-align: middle;\n",
       "    }\n",
       "\n",
       "    .dataframe tbody tr th {\n",
       "        vertical-align: top;\n",
       "    }\n",
       "\n",
       "    .dataframe thead th {\n",
       "        text-align: right;\n",
       "    }\n",
       "</style>\n",
       "<table border=\"1\" class=\"dataframe\">\n",
       "  <thead>\n",
       "    <tr style=\"text-align: right;\">\n",
       "      <th></th>\n",
       "      <th>Anomaly short description</th>\n",
       "      <th>Anomaly long description</th>\n",
       "    </tr>\n",
       "    <tr>\n",
       "      <th>Feature name</th>\n",
       "      <th></th>\n",
       "      <th></th>\n",
       "    </tr>\n",
       "  </thead>\n",
       "  <tbody>\n",
       "    <tr>\n",
       "      <th>'fare_amount'</th>\n",
       "      <td>Column dropped</td>\n",
       "      <td>Column is completely missing</td>\n",
       "    </tr>\n",
       "  </tbody>\n",
       "</table>\n",
       "</div>"
      ],
      "text/plain": [
       "              Anomaly short description      Anomaly long description\n",
       "Feature name                                                         \n",
       "'fare_amount'  Column dropped            Column is completely missing"
      ]
     },
     "metadata": {},
     "output_type": "display_data"
    }
   ],
   "source": [
    "serving_stats = tfdv.generate_statistics_from_csv(data_location = SERVING_DATA)\n",
    "serving_anomalies = tfdv.validate_statistics(serving_stats, schema)\n",
    "\n",
    "tfdv.display_anomalies(serving_anomalies)"
   ]
  },
  {
   "cell_type": "markdown",
   "metadata": {},
   "source": [
    "\n",
    "Now we just have the tips feature (which is our label) showing up as an anomaly ('Column dropped'). Of course we don't expect to have labels in our serving data, so let's tell TFDV to ignore that."
   ]
  },
  {
   "cell_type": "code",
   "execution_count": 16,
   "metadata": {},
   "outputs": [
    {
     "data": {
      "text/html": [
       "<h4 style=\"color:green;\">No anomalies found.</h4>"
      ],
      "text/plain": [
       "<IPython.core.display.HTML object>"
      ]
     },
     "metadata": {},
     "output_type": "display_data"
    }
   ],
   "source": [
    "# all features are by default in both TRAINING, EVAL and SERVING environments\n",
    "schema.default_environment.append('TRAINING')\n",
    "schema.default_environment.append('EVAL')\n",
    "schema.default_environment.append('SERVING')\n",
    "\n",
    "# indicate that 'fare_amount' feature is not in SERVING environment.\n",
    "tfdv.get_feature(schema, 'fare_amount').not_in_environment.append('SERVING')\n",
    "\n",
    "serving_anomalies_with_env = tfdv.validate_statistics(\n",
    "    serving_stats, schema, environment='SERVING')\n",
    "\n",
    "tfdv.display_anomalies(serving_anomalies_with_env)"
   ]
  },
  {
   "cell_type": "markdown",
   "metadata": {},
   "source": [
    "## Check for Skew\n",
    "\n",
    "In addition to checking whether a dataset conforms to the expectations set in the schema, TFDV also provides functionalities to detect drift and skew. TFDV performs this check by comparing the statistics of the different datasets based on the drift/skew comparators specified in the schema.\n",
    "\n",
    "TFDV can detect three different kinds of skew in your data - schema skew, feature skew, and distribution skew.\n",
    "\n",
    "**1) Schema Skew** \n",
    "\n",
    "We saw that the schema between training & serving is expected to be slightly different, specifically, the label feature being only present in the training data but not in serving. This should be specified through enviornment field in the schema.\n",
    "\n",
    "**2) Feature Skew** \n",
    "\n",
    "Feature skew occurs when the feature values that a model trains on are different from the feature values that it sees at serving time. For example, this can happen when there is a trend such as inflation in the price of fares. \n",
    "\n",
    "**3) Distribution Skew** \n",
    "\n",
    "Distribution skew occurs when the distribution of the training dataset is significantly different from the distribution of the serving dataset. One of the key causes for distribution skew is using different code or different data sources to generate the training dataset. \n",
    "\n",
    "Read up on `skew_comparator.infinity_norm.threshold` & `drift_comparator.infinity_norm.threshold` to see examples for how to set a threshold for categorical feautures."
   ]
  },
  {
   "cell_type": "markdown",
   "metadata": {},
   "source": [
    "## Freeze Schema\n",
    "\n",
    "We want to persist our schema so that it can be used by other team members as well as the rest of the TensorFlow Transform & Serving pipeline. "
   ]
  },
  {
   "cell_type": "code",
   "execution_count": 17,
   "metadata": {},
   "outputs": [
    {
     "name": "stdout",
     "output_type": "stream",
     "text": [
      "feature {\r\n",
      "  name: \"trip_distance\"\r\n",
      "  value_count {\r\n",
      "    min: 1\r\n",
      "    max: 1\r\n",
      "  }\r\n",
      "  type: FLOAT\r\n",
      "  presence {\r\n",
      "    min_fraction: 1.0\r\n",
      "    min_count: 1\r\n",
      "  }\r\n",
      "}\r\n",
      "feature {\r\n",
      "  name: \"pickup_day_of_week\"\r\n",
      "  value_count {\r\n",
      "    min: 1\r\n",
      "    max: 1\r\n",
      "  }\r\n",
      "  type: INT\r\n",
      "  presence {\r\n",
      "    min_fraction: 1.0\r\n",
      "    min_count: 1\r\n",
      "  }\r\n",
      "}\r\n",
      "feature {\r\n",
      "  name: \"vendor_id\"\r\n",
      "  value_count {\r\n",
      "    min: 1\r\n",
      "    max: 1\r\n",
      "  }\r\n",
      "  type: INT\r\n",
      "  presence {\r\n",
      "    min_fraction: 0.5\r\n",
      "    min_count: 1\r\n",
      "  }\r\n",
      "}\r\n",
      "feature {\r\n",
      "  name: \"tip_amount\"\r\n",
      "  value_count {\r\n",
      "    min: 1\r\n",
      "    max: 1\r\n",
      "  }\r\n",
      "  type: FLOAT\r\n",
      "  presence {\r\n",
      "    min_fraction: 1.0\r\n",
      "    min_count: 1\r\n",
      "  }\r\n",
      "}\r\n",
      "feature {\r\n",
      "  name: \"dropoff_hour\"\r\n",
      "  value_count {\r\n",
      "    min: 1\r\n",
      "    max: 1\r\n",
      "  }\r\n",
      "  type: INT\r\n",
      "  presence {\r\n",
      "    min_fraction: 1.0\r\n",
      "    min_count: 1\r\n",
      "  }\r\n",
      "}\r\n",
      "feature {\r\n",
      "  name: \"dropoff_month\"\r\n",
      "  value_count {\r\n",
      "    min: 1\r\n",
      "    max: 1\r\n",
      "  }\r\n",
      "  type: INT\r\n",
      "  presence {\r\n",
      "    min_fraction: 1.0\r\n",
      "    min_count: 1\r\n",
      "  }\r\n",
      "}\r\n",
      "feature {\r\n",
      "  name: \"pickup_hour\"\r\n",
      "  value_count {\r\n",
      "    min: 1\r\n",
      "    max: 1\r\n",
      "  }\r\n",
      "  type: INT\r\n",
      "  presence {\r\n",
      "    min_fraction: 1.0\r\n",
      "    min_count: 1\r\n",
      "  }\r\n",
      "}\r\n",
      "feature {\r\n",
      "  name: \"pickup_month\"\r\n",
      "  value_count {\r\n",
      "    min: 1\r\n",
      "    max: 1\r\n",
      "  }\r\n",
      "  type: INT\r\n",
      "  presence {\r\n",
      "    min_fraction: 1.0\r\n",
      "    min_count: 1\r\n",
      "  }\r\n",
      "}\r\n",
      "feature {\r\n",
      "  name: \"fare_amount\"\r\n",
      "  value_count {\r\n",
      "    min: 1\r\n",
      "    max: 1\r\n",
      "  }\r\n",
      "  type: FLOAT\r\n",
      "  presence {\r\n",
      "    min_fraction: 1.0\r\n",
      "    min_count: 1\r\n",
      "  }\r\n",
      "  not_in_environment: \"SERVING\"\r\n",
      "}\r\n",
      "feature {\r\n",
      "  name: \"passenger_count\"\r\n",
      "  value_count {\r\n",
      "    min: 1\r\n",
      "    max: 1\r\n",
      "  }\r\n",
      "  type: INT\r\n",
      "  presence {\r\n",
      "    min_fraction: 1.0\r\n",
      "    min_count: 1\r\n",
      "  }\r\n",
      "}\r\n",
      "feature {\r\n",
      "  name: \"dropoff_day_of_week\"\r\n",
      "  value_count {\r\n",
      "    min: 1\r\n",
      "    max: 1\r\n",
      "  }\r\n",
      "  type: INT\r\n",
      "  presence {\r\n",
      "    min_fraction: 1.0\r\n",
      "    min_count: 1\r\n",
      "  }\r\n",
      "}\r\n",
      "feature {\r\n",
      "  name: \"payment_type\"\r\n",
      "  value_count {\r\n",
      "    min: 1\r\n",
      "    max: 1\r\n",
      "  }\r\n",
      "  type: INT\r\n",
      "  presence {\r\n",
      "    min_fraction: 1.0\r\n",
      "    min_count: 1\r\n",
      "  }\r\n",
      "}\r\n",
      "feature {\r\n",
      "  name: \"trip_type\"\r\n",
      "  value_count {\r\n",
      "    min: 1\r\n",
      "    max: 1\r\n",
      "  }\r\n",
      "  type: INT\r\n",
      "  presence {\r\n",
      "    min_fraction: 1.0\r\n",
      "    min_count: 1\r\n",
      "  }\r\n",
      "}\r\n",
      "default_environment: \"TRAINING\"\r\n",
      "default_environment: \"EVAL\"\r\n",
      "default_environment: \"SERVING\"\r\n"
     ]
    }
   ],
   "source": [
    "from tensorflow.python.lib.io import file_io\n",
    "from google.protobuf import text_format\n",
    "\n",
    "file_io.recursive_create_dir(OUTPUT_DIR)\n",
    "schema_file = os.path.join(OUTPUT_DIR, 'schema.pbtxt')\n",
    "tfdv.write_schema_text(schema, schema_file)\n",
    "\n",
    "!cat {schema_file}"
   ]
  }
 ],
 "metadata": {
  "kernelspec": {
   "display_name": "Python 2",
   "language": "python",
   "name": "python2"
  },
  "language_info": {
   "codemirror_mode": {
    "name": "ipython",
    "version": 2
   },
   "file_extension": ".py",
   "mimetype": "text/x-python",
   "name": "python",
   "nbconvert_exporter": "python",
   "pygments_lexer": "ipython2",
   "version": "2.7.15"
  }
 },
 "nbformat": 4,
 "nbformat_minor": 2
}
